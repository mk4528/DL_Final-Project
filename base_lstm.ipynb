{
 "cells": [
  {
   "cell_type": "code",
   "execution_count": 3,
   "id": "7fb3f62a",
   "metadata": {
    "colab": {
     "base_uri": "https://localhost:8080/",
     "height": 206
    },
    "id": "7fb3f62a",
    "outputId": "6ab5d1dd-eef0-4751-ce20-936c9a5689b9"
   },
   "outputs": [
    {
     "data": {
      "text/html": [
       "\n",
       "  <div id=\"df-b6e239d4-a5ef-4a73-aff8-ece14b497063\">\n",
       "    <div class=\"colab-df-container\">\n",
       "      <div>\n",
       "<style scoped>\n",
       "    .dataframe tbody tr th:only-of-type {\n",
       "        vertical-align: middle;\n",
       "    }\n",
       "\n",
       "    .dataframe tbody tr th {\n",
       "        vertical-align: top;\n",
       "    }\n",
       "\n",
       "    .dataframe thead th {\n",
       "        text-align: right;\n",
       "    }\n",
       "</style>\n",
       "<table border=\"1\" class=\"dataframe\">\n",
       "  <thead>\n",
       "    <tr style=\"text-align: right;\">\n",
       "      <th></th>\n",
       "      <th>Symbol</th>\n",
       "      <th>Security</th>\n",
       "      <th>SEC filings</th>\n",
       "      <th>GICS Sector</th>\n",
       "      <th>GICS Sub-Industry</th>\n",
       "      <th>Headquarters Location</th>\n",
       "      <th>Date first added</th>\n",
       "      <th>CIK</th>\n",
       "      <th>Founded</th>\n",
       "    </tr>\n",
       "  </thead>\n",
       "  <tbody>\n",
       "    <tr>\n",
       "      <th>0</th>\n",
       "      <td>MMM</td>\n",
       "      <td>3M</td>\n",
       "      <td>reports</td>\n",
       "      <td>Industrials</td>\n",
       "      <td>Industrial Conglomerates</td>\n",
       "      <td>Saint Paul, Minnesota</td>\n",
       "      <td>1976-08-09</td>\n",
       "      <td>66740</td>\n",
       "      <td>1902</td>\n",
       "    </tr>\n",
       "    <tr>\n",
       "      <th>1</th>\n",
       "      <td>AOS</td>\n",
       "      <td>A. O. Smith</td>\n",
       "      <td>reports</td>\n",
       "      <td>Industrials</td>\n",
       "      <td>Building Products</td>\n",
       "      <td>Milwaukee, Wisconsin</td>\n",
       "      <td>2017-07-26</td>\n",
       "      <td>91142</td>\n",
       "      <td>1916</td>\n",
       "    </tr>\n",
       "    <tr>\n",
       "      <th>2</th>\n",
       "      <td>ABT</td>\n",
       "      <td>Abbott</td>\n",
       "      <td>reports</td>\n",
       "      <td>Health Care</td>\n",
       "      <td>Health Care Equipment</td>\n",
       "      <td>North Chicago, Illinois</td>\n",
       "      <td>1964-03-31</td>\n",
       "      <td>1800</td>\n",
       "      <td>1888</td>\n",
       "    </tr>\n",
       "    <tr>\n",
       "      <th>3</th>\n",
       "      <td>ABBV</td>\n",
       "      <td>AbbVie</td>\n",
       "      <td>reports</td>\n",
       "      <td>Health Care</td>\n",
       "      <td>Pharmaceuticals</td>\n",
       "      <td>North Chicago, Illinois</td>\n",
       "      <td>2012-12-31</td>\n",
       "      <td>1551152</td>\n",
       "      <td>2013 (1888)</td>\n",
       "    </tr>\n",
       "    <tr>\n",
       "      <th>4</th>\n",
       "      <td>ABMD</td>\n",
       "      <td>Abiomed</td>\n",
       "      <td>reports</td>\n",
       "      <td>Health Care</td>\n",
       "      <td>Health Care Equipment</td>\n",
       "      <td>Danvers, Massachusetts</td>\n",
       "      <td>2018-05-31</td>\n",
       "      <td>815094</td>\n",
       "      <td>1981</td>\n",
       "    </tr>\n",
       "  </tbody>\n",
       "</table>\n",
       "</div>\n",
       "      <button class=\"colab-df-convert\" onclick=\"convertToInteractive('df-b6e239d4-a5ef-4a73-aff8-ece14b497063')\"\n",
       "              title=\"Convert this dataframe to an interactive table.\"\n",
       "              style=\"display:none;\">\n",
       "        \n",
       "  <svg xmlns=\"http://www.w3.org/2000/svg\" height=\"24px\"viewBox=\"0 0 24 24\"\n",
       "       width=\"24px\">\n",
       "    <path d=\"M0 0h24v24H0V0z\" fill=\"none\"/>\n",
       "    <path d=\"M18.56 5.44l.94 2.06.94-2.06 2.06-.94-2.06-.94-.94-2.06-.94 2.06-2.06.94zm-11 1L8.5 8.5l.94-2.06 2.06-.94-2.06-.94L8.5 2.5l-.94 2.06-2.06.94zm10 10l.94 2.06.94-2.06 2.06-.94-2.06-.94-.94-2.06-.94 2.06-2.06.94z\"/><path d=\"M17.41 7.96l-1.37-1.37c-.4-.4-.92-.59-1.43-.59-.52 0-1.04.2-1.43.59L10.3 9.45l-7.72 7.72c-.78.78-.78 2.05 0 2.83L4 21.41c.39.39.9.59 1.41.59.51 0 1.02-.2 1.41-.59l7.78-7.78 2.81-2.81c.8-.78.8-2.07 0-2.86zM5.41 20L4 18.59l7.72-7.72 1.47 1.35L5.41 20z\"/>\n",
       "  </svg>\n",
       "      </button>\n",
       "      \n",
       "  <style>\n",
       "    .colab-df-container {\n",
       "      display:flex;\n",
       "      flex-wrap:wrap;\n",
       "      gap: 12px;\n",
       "    }\n",
       "\n",
       "    .colab-df-convert {\n",
       "      background-color: #E8F0FE;\n",
       "      border: none;\n",
       "      border-radius: 50%;\n",
       "      cursor: pointer;\n",
       "      display: none;\n",
       "      fill: #1967D2;\n",
       "      height: 32px;\n",
       "      padding: 0 0 0 0;\n",
       "      width: 32px;\n",
       "    }\n",
       "\n",
       "    .colab-df-convert:hover {\n",
       "      background-color: #E2EBFA;\n",
       "      box-shadow: 0px 1px 2px rgba(60, 64, 67, 0.3), 0px 1px 3px 1px rgba(60, 64, 67, 0.15);\n",
       "      fill: #174EA6;\n",
       "    }\n",
       "\n",
       "    [theme=dark] .colab-df-convert {\n",
       "      background-color: #3B4455;\n",
       "      fill: #D2E3FC;\n",
       "    }\n",
       "\n",
       "    [theme=dark] .colab-df-convert:hover {\n",
       "      background-color: #434B5C;\n",
       "      box-shadow: 0px 1px 3px 1px rgba(0, 0, 0, 0.15);\n",
       "      filter: drop-shadow(0px 1px 2px rgba(0, 0, 0, 0.3));\n",
       "      fill: #FFFFFF;\n",
       "    }\n",
       "  </style>\n",
       "\n",
       "      <script>\n",
       "        const buttonEl =\n",
       "          document.querySelector('#df-b6e239d4-a5ef-4a73-aff8-ece14b497063 button.colab-df-convert');\n",
       "        buttonEl.style.display =\n",
       "          google.colab.kernel.accessAllowed ? 'block' : 'none';\n",
       "\n",
       "        async function convertToInteractive(key) {\n",
       "          const element = document.querySelector('#df-b6e239d4-a5ef-4a73-aff8-ece14b497063');\n",
       "          const dataTable =\n",
       "            await google.colab.kernel.invokeFunction('convertToInteractive',\n",
       "                                                     [key], {});\n",
       "          if (!dataTable) return;\n",
       "\n",
       "          const docLinkHtml = 'Like what you see? Visit the ' +\n",
       "            '<a target=\"_blank\" href=https://colab.research.google.com/notebooks/data_table.ipynb>data table notebook</a>'\n",
       "            + ' to learn more about interactive tables.';\n",
       "          element.innerHTML = '';\n",
       "          dataTable['output_type'] = 'display_data';\n",
       "          await google.colab.output.renderOutput(dataTable, element);\n",
       "          const docLink = document.createElement('div');\n",
       "          docLink.innerHTML = docLinkHtml;\n",
       "          element.appendChild(docLink);\n",
       "        }\n",
       "      </script>\n",
       "    </div>\n",
       "  </div>\n",
       "  "
      ],
      "text/plain": [
       "  Symbol     Security SEC filings  GICS Sector         GICS Sub-Industry  \\\n",
       "0    MMM           3M     reports  Industrials  Industrial Conglomerates   \n",
       "1    AOS  A. O. Smith     reports  Industrials         Building Products   \n",
       "2    ABT       Abbott     reports  Health Care     Health Care Equipment   \n",
       "3   ABBV       AbbVie     reports  Health Care           Pharmaceuticals   \n",
       "4   ABMD      Abiomed     reports  Health Care     Health Care Equipment   \n",
       "\n",
       "     Headquarters Location Date first added      CIK      Founded  \n",
       "0    Saint Paul, Minnesota       1976-08-09    66740         1902  \n",
       "1     Milwaukee, Wisconsin       2017-07-26    91142         1916  \n",
       "2  North Chicago, Illinois       1964-03-31     1800         1888  \n",
       "3  North Chicago, Illinois       2012-12-31  1551152  2013 (1888)  \n",
       "4   Danvers, Massachusetts       2018-05-31   815094         1981  "
      ]
     },
     "execution_count": 3,
     "metadata": {},
     "output_type": "execute_result"
    }
   ],
   "source": [
    "import pandas as pd\n",
    "\n",
    "# There are 2 tables on the Wikipedia page\n",
    "# we want the first table\n",
    "\n",
    "payload = pd.read_html('https://en.wikipedia.org/wiki/List_of_S%26P_500_companies')\n",
    "first_table = payload[0]\n",
    "second_table = payload[1]\n",
    "symbols = first_table.Symbol\n",
    "first_table.head()"
   ]
  },
  {
   "cell_type": "code",
   "execution_count": 4,
   "id": "JxW6EcSquyu2",
   "metadata": {
    "colab": {
     "base_uri": "https://localhost:8080/"
    },
    "id": "JxW6EcSquyu2",
    "outputId": "a203db90-f4e4-4689-cce0-7b8b7d189ae3"
   },
   "outputs": [
    {
     "name": "stdout",
     "output_type": "stream",
     "text": [
      "Requirement already satisfied: yfinance in /usr/local/lib/python3.7/dist-packages (0.1.70)\n",
      "Requirement already satisfied: multitasking>=0.0.7 in /usr/local/lib/python3.7/dist-packages (from yfinance) (0.0.10)\n",
      "Requirement already satisfied: lxml>=4.5.1 in /usr/local/lib/python3.7/dist-packages (from yfinance) (4.8.0)\n",
      "Requirement already satisfied: requests>=2.26 in /usr/local/lib/python3.7/dist-packages (from yfinance) (2.27.1)\n",
      "Requirement already satisfied: numpy>=1.15 in /usr/local/lib/python3.7/dist-packages (from yfinance) (1.21.6)\n",
      "Requirement already satisfied: pandas>=0.24.0 in /usr/local/lib/python3.7/dist-packages (from yfinance) (1.3.5)\n",
      "Requirement already satisfied: pytz>=2017.3 in /usr/local/lib/python3.7/dist-packages (from pandas>=0.24.0->yfinance) (2022.1)\n",
      "Requirement already satisfied: python-dateutil>=2.7.3 in /usr/local/lib/python3.7/dist-packages (from pandas>=0.24.0->yfinance) (2.8.2)\n",
      "Requirement already satisfied: six>=1.5 in /usr/local/lib/python3.7/dist-packages (from python-dateutil>=2.7.3->pandas>=0.24.0->yfinance) (1.15.0)\n",
      "Requirement already satisfied: certifi>=2017.4.17 in /usr/local/lib/python3.7/dist-packages (from requests>=2.26->yfinance) (2021.10.8)\n",
      "Requirement already satisfied: charset-normalizer~=2.0.0 in /usr/local/lib/python3.7/dist-packages (from requests>=2.26->yfinance) (2.0.12)\n",
      "Requirement already satisfied: idna<4,>=2.5 in /usr/local/lib/python3.7/dist-packages (from requests>=2.26->yfinance) (2.10)\n",
      "Requirement already satisfied: urllib3<1.27,>=1.21.1 in /usr/local/lib/python3.7/dist-packages (from requests>=2.26->yfinance) (1.24.3)\n",
      "Requirement already satisfied: talib-binary in /usr/local/lib/python3.7/dist-packages (0.4.19)\n",
      "Requirement already satisfied: numpy in /usr/local/lib/python3.7/dist-packages (from talib-binary) (1.21.6)\n"
     ]
    }
   ],
   "source": [
    "!pip install yfinance\n",
    "!pip install talib-binary"
   ]
  },
  {
   "cell_type": "code",
   "execution_count": 5,
   "id": "628058c5",
   "metadata": {
    "colab": {
     "base_uri": "https://localhost:8080/"
    },
    "id": "628058c5",
    "outputId": "8a113b32-cc45-4842-90a4-1bd6e7e98cc1"
   },
   "outputs": [
    {
     "name": "stdout",
     "output_type": "stream",
     "text": [
      "- BRK.B: No data found, symbol may be delisted\n",
      "- BF.B: No data found for this date range, symbol may be delisted\n",
      " 2.31 min.\n"
     ]
    }
   ],
   "source": [
    "import numpy as np\n",
    "import matplotlib.pyplot as plt\n",
    "import yfinance as yf\n",
    "import talib as ta\n",
    "import time\n",
    "\n",
    "start = time.time()\n",
    "period_y = '11y'\n",
    "\n",
    "df_X = yf.Ticker(symbols[0]).history(period=period_y).ffill()\n",
    "df_X[\"Close_mom_sht\"] = ta.MOM(df_X[\"Close\"], timeperiod = 5)\n",
    "df_X[\"Close_mom_mid\"] = ta.MOM(df_X[\"Close\"], timeperiod = 25)\n",
    "df_X[\"Close_mom_lng\"] = ta.MOM(df_X[\"Close\"], timeperiod = 75)\n",
    "df_X[\"Close_rsi\"] = ta.RSI(df_X[\"Close\"])\n",
    "df_X[\"Close_Price_NATR\"] = ta.NATR(df_X[\"High\"], df_X[\"Low\"], df_X[\"Close\"])\n",
    "df_X[\"Close\"] = ta.ROCP(df_X[\"Close\"], timeperiod = 1)\n",
    "df_X = df_X.filter(regex='Close', axis = 1)\n",
    "df_X.columns = [\"MMM_\" + c for c in df_X.columns]\n",
    "\n",
    "for smb in symbols[1:]:\n",
    "    new_df_X = yf.Ticker(smb).history(period=period_y).ffill()\n",
    "    if len(new_df_X) == 0:\n",
    "        continue\n",
    "    if (new_df_X.index[0] != df_X.index[0]):\n",
    "        continue\n",
    "    new_df_X[\"Close_mom_sht\"] = ta.MOM(new_df_X[\"Close\"], timeperiod = 5)\n",
    "    new_df_X[\"Close_mom_mid\"] = ta.MOM(new_df_X[\"Close\"], timeperiod = 25)\n",
    "    new_df_X[\"Close_mom_lng\"] = ta.MOM(new_df_X[\"Close\"], timeperiod = 75)\n",
    "    new_df_X[\"Close_rsi\"] = ta.RSI(new_df_X[\"Close\"])\n",
    "    new_df_X[\"Close_Price_NATR\"] = ta.NATR(new_df_X[\"High\"], new_df_X[\"Low\"], new_df_X[\"Close\"])\n",
    "    new_df_X[\"Close\"] = ta.ROCP(new_df_X[\"Close\"], timeperiod = 1)\n",
    "    new_df_X = new_df_X.filter(regex='Close', axis = 1)\n",
    "    new_df_X.columns = [smb + \"_\" + c for c in new_df_X.columns]\n",
    "    df_X = df_X.join(new_df_X, how = \"outer\")\n",
    "print(f\"{(time.time() - start) / 60: 0.2f} min.\")"
   ]
  },
  {
   "cell_type": "code",
   "execution_count": 6,
   "id": "IZRlDghQk-GE",
   "metadata": {
    "colab": {
     "base_uri": "https://localhost:8080/"
    },
    "id": "IZRlDghQk-GE",
    "outputId": "b2119520-bb13-497e-de08-c3d77c737327"
   },
   "outputs": [
    {
     "name": "stdout",
     "output_type": "stream",
     "text": [
      "(2769, 2676)\n",
      "93\n",
      "223\n",
      " 1.69 min.\n",
      "(2769, 1428)\n",
      "0\n"
     ]
    }
   ],
   "source": [
    "start = time.time()\n",
    "\n",
    "df_X_low_cor = df_X.copy()\n",
    "print(df_X_low_cor.shape)\n",
    "cor = df_X_low_cor.filter(regex='Close$', axis = 1).corr()\n",
    "cor_n_diag = cor - np.diag(np.ones(cor.shape[0]))\n",
    "print(((cor_n_diag > 0.8).sum() > 0).sum())\n",
    "print(((cor_n_diag > 0.7).sum() > 0).sum())\n",
    "\n",
    "while (cor_n_diag > 0.7).sum().sum() > 0:\n",
    "    candidates = cor_n_diag[np.any(cor_n_diag == cor_n_diag.max().max(), axis = 1)].mean(axis = 1)\n",
    "    col_del_names = candidates[candidates == candidates.max()]\n",
    "    col_del_names = df_X_low_cor.filter(regex = col_del_names.index.values[0], axis = 1).columns.values\n",
    "\n",
    "    df_X_low_cor = df_X_low_cor.loc[:, [not cl in col_del_names for cl in df_X_low_cor.columns.values]]\n",
    "    cor = df_X_low_cor.filter(regex='Close$', axis = 1).corr()\n",
    "    cor_n_diag = cor - np.diag(np.ones(cor.shape[0]))\n",
    "\n",
    "print(f\"{(time.time() - start) / 60: 0.2f} min.\")\n",
    "print(df_X_low_cor.shape)\n",
    "print(((cor_n_diag > 0.7).sum() > 0).sum())"
   ]
  },
  {
   "cell_type": "code",
   "execution_count": 7,
   "id": "TtYWS7ARFRBe",
   "metadata": {
    "colab": {
     "base_uri": "https://localhost:8080/"
    },
    "id": "TtYWS7ARFRBe",
    "outputId": "939247d1-49bd-4882-e7e4-c19f230abf87"
   },
   "outputs": [
    {
     "name": "stdout",
     "output_type": "stream",
     "text": [
      "31892\n",
      "            MMM_Close  MMM_Close_mom_sht  MMM_Close_mom_mid  \\\n",
      "Date                                                          \n",
      "2011-05-09        NaN                NaN                NaN   \n",
      "2011-05-10  -0.002917                NaN                NaN   \n",
      "2011-05-11  -0.001985                NaN                NaN   \n",
      "2011-05-12   0.011830                NaN                NaN   \n",
      "2011-05-13  -0.006622                NaN                NaN   \n",
      "2011-05-16  -0.005728          -0.390755                NaN   \n",
      "\n",
      "            MMM_Close_mom_lng  MMM_Close_rsi  MMM_Close_Price_NATR  AOS_Close  \\\n",
      "Date                                                                            \n",
      "2011-05-09                NaN            NaN                   NaN        NaN   \n",
      "2011-05-10                NaN            NaN                   NaN   0.013084   \n",
      "2011-05-11                NaN            NaN                   NaN  -0.019142   \n",
      "2011-05-12                NaN            NaN                   NaN  -0.015049   \n",
      "2011-05-13                NaN            NaN                   NaN  -0.019813   \n",
      "2011-05-16                NaN            NaN                   NaN  -0.012664   \n",
      "\n",
      "            AOS_Close_mom_sht  AOS_Close_mom_mid  AOS_Close_mom_lng  ...  \\\n",
      "Date                                                                 ...   \n",
      "2011-05-09                NaN                NaN                NaN  ...   \n",
      "2011-05-10                NaN                NaN                NaN  ...   \n",
      "2011-05-11                NaN                NaN                NaN  ...   \n",
      "2011-05-12                NaN                NaN                NaN  ...   \n",
      "2011-05-13                NaN                NaN                NaN  ...   \n",
      "2011-05-16          -0.482485                NaN                NaN  ...   \n",
      "\n",
      "            YUM_Close_mom_mid  YUM_Close_mom_lng  YUM_Close_rsi  \\\n",
      "Date                                                              \n",
      "2011-05-09                NaN                NaN            NaN   \n",
      "2011-05-10                NaN                NaN            NaN   \n",
      "2011-05-11                NaN                NaN            NaN   \n",
      "2011-05-12                NaN                NaN            NaN   \n",
      "2011-05-13                NaN                NaN            NaN   \n",
      "2011-05-16                NaN                NaN            NaN   \n",
      "\n",
      "            YUM_Close_Price_NATR  ZBH_Close  ZBH_Close_mom_sht  \\\n",
      "Date                                                             \n",
      "2011-05-09                   NaN        NaN                NaN   \n",
      "2011-05-10                   NaN   0.025758                NaN   \n",
      "2011-05-11                   NaN  -0.007749                NaN   \n",
      "2011-05-12                   NaN   0.005640                NaN   \n",
      "2011-05-13                   NaN  -0.009347                NaN   \n",
      "2011-05-16                   NaN  -0.000145           0.836891   \n",
      "\n",
      "            ZBH_Close_mom_mid  ZBH_Close_mom_lng  ZBH_Close_rsi  \\\n",
      "Date                                                              \n",
      "2011-05-09                NaN                NaN            NaN   \n",
      "2011-05-10                NaN                NaN            NaN   \n",
      "2011-05-11                NaN                NaN            NaN   \n",
      "2011-05-12                NaN                NaN            NaN   \n",
      "2011-05-13                NaN                NaN            NaN   \n",
      "2011-05-16                NaN                NaN            NaN   \n",
      "\n",
      "            ZBH_Close_Price_NATR  \n",
      "Date                              \n",
      "2011-05-09                   NaN  \n",
      "2011-05-10                   NaN  \n",
      "2011-05-11                   NaN  \n",
      "2011-05-12                   NaN  \n",
      "2011-05-13                   NaN  \n",
      "2011-05-16                   NaN  \n",
      "\n",
      "[6 rows x 1428 columns]\n",
      "(2694, 1428)\n",
      "            MMM_Close  MMM_Close_mom_sht  MMM_Close_mom_mid  \\\n",
      "Date                                                          \n",
      "2011-08-24   0.007782          -0.477814          -9.951237   \n",
      "2011-08-25  -0.026155           0.574909         -12.698196   \n",
      "2011-08-26   0.023276           2.344307         -10.998280   \n",
      "2011-08-29   0.026122           3.844967          -9.207985   \n",
      "2011-08-30  -0.000366           1.791821          -5.418594   \n",
      "2011-08-31   0.011088           2.008327          -3.367271   \n",
      "\n",
      "            MMM_Close_mom_lng  MMM_Close_rsi  MMM_Close_Price_NATR  AOS_Close  \\\n",
      "Date                                                                            \n",
      "2011-08-24         -10.824490      42.114864              3.102169   0.011985   \n",
      "2011-08-25         -12.185883      38.182718              3.219219  -0.025888   \n",
      "2011-08-26         -10.687008      43.137839              3.256950   0.060503   \n",
      "2011-08-29          -9.959686      48.266257              3.140467   0.042123   \n",
      "2011-08-30          -9.510284      48.199007              3.082579   0.002558   \n",
      "2011-08-31          -8.425407      50.452401              2.942907   0.002552   \n",
      "\n",
      "            AOS_Close_mom_sht  AOS_Close_mom_mid  AOS_Close_mom_lng  ...  \\\n",
      "Date                                                                 ...   \n",
      "2011-08-24          -0.124280          -1.467778          -1.356767  ...   \n",
      "2011-08-25           0.109282          -1.837862          -1.677748  ...   \n",
      "2011-08-26           0.659986          -1.494589          -1.041992  ...   \n",
      "2011-08-29           0.996413          -1.083434          -0.566785  ...   \n",
      "2011-08-30           0.709272          -0.837842          -0.368167  ...   \n",
      "2011-08-31           0.638557          -0.546422          -0.235724  ...   \n",
      "\n",
      "            YUM_Close_mom_mid  YUM_Close_mom_lng  YUM_Close_rsi  \\\n",
      "Date                                                              \n",
      "2011-08-24          -0.758368          -0.613777      55.278456   \n",
      "2011-08-25          -1.640125          -1.717491      50.119403   \n",
      "2011-08-26          -1.058151          -0.924656      53.793206   \n",
      "2011-08-29           0.094059          -0.283516      57.687589   \n",
      "2011-08-30           0.170485          -0.347813      57.750002   \n",
      "2011-08-31           1.158081           0.314371      58.891551   \n",
      "\n",
      "            YUM_Close_Price_NATR  ZBH_Close  ZBH_Close_mom_sht  \\\n",
      "Date                                                             \n",
      "2011-08-24              3.086754   0.012687           0.605370   \n",
      "2011-08-25              3.243057  -0.007479           2.323635   \n",
      "2011-08-26              3.239233   0.020723           2.848904   \n",
      "2011-08-29              3.102045   0.025840           4.024097   \n",
      "2011-08-30              2.995763   0.003419           2.635254   \n",
      "2011-08-31              2.882112   0.020083           3.035892   \n",
      "\n",
      "            ZBH_Close_mom_mid  ZBH_Close_mom_lng  ZBH_Close_rsi  \\\n",
      "Date                                                              \n",
      "2011-08-24          -9.241188         -12.873547      40.300514   \n",
      "2011-08-25         -10.380730         -14.787670      39.016875   \n",
      "2011-08-26          -8.110523         -13.327599      44.273584   \n",
      "2011-08-29          -5.929306         -12.428394      50.161924   \n",
      "2011-08-30          -5.172565         -11.680561      50.919881   \n",
      "2011-08-31          -3.516640         -10.674545      55.241147   \n",
      "\n",
      "            ZBH_Close_Price_NATR  \n",
      "Date                              \n",
      "2011-08-24              3.326965  \n",
      "2011-08-25              3.329259  \n",
      "2011-08-26              3.331912  \n",
      "2011-08-29              3.201048  \n",
      "2011-08-30              3.118529  \n",
      "2011-08-31              3.024590  \n",
      "\n",
      "[6 rows x 1428 columns]\n"
     ]
    }
   ],
   "source": [
    "df_X = df_X_low_cor\n",
    "print(df_X.isna().sum().sum())\n",
    "df_X = df_X.ffill()\n",
    "print(df_X.head(6))\n",
    "\n",
    "df_X = df_X.dropna()\n",
    "print(df_X.shape)\n",
    "print(df_X.head(6))"
   ]
  },
  {
   "cell_type": "code",
   "execution_count": 8,
   "id": "RaOo8BdT3JDq",
   "metadata": {
    "colab": {
     "base_uri": "https://localhost:8080/"
    },
    "id": "RaOo8BdT3JDq",
    "outputId": "6fca31ee-79ba-4dc6-bb01-b42b362aac4c"
   },
   "outputs": [
    {
     "name": "stdout",
     "output_type": "stream",
     "text": [
      "sp500    92\n",
      "dtype: int64\n",
      "              sp500\n",
      "DATE               \n",
      "2012-05-07  1369.58\n",
      "2012-05-08  1363.72\n",
      "2012-05-09  1354.58\n",
      "2012-05-10  1357.99\n",
      "2012-05-11  1353.39\n",
      "...             ...\n",
      "2022-04-26  4175.20\n",
      "2022-04-27  4183.96\n",
      "2022-04-28  4287.50\n",
      "2022-04-29  4131.93\n",
      "2022-05-02  4155.38\n",
      "\n",
      "[2514 rows x 1 columns]\n",
      "0\n",
      "            sp500_t2     sp500  MMM_Close  MMM_Close_mom_sht  \\\n",
      "DATE                                                           \n",
      "2012-05-08  0.002517 -0.004279  -0.005113          -1.544144   \n",
      "2012-05-09 -0.003387 -0.006702  -0.003313          -1.703148   \n",
      "2012-05-10 -0.011113  0.002517  -0.001604          -1.710686   \n",
      "2012-05-11 -0.005746 -0.003387  -0.004591          -1.468445   \n",
      "2012-05-14 -0.004404 -0.011113  -0.010377          -1.650162   \n",
      "...              ...       ...        ...                ...   \n",
      "2022-04-22 -0.028146 -0.027740  -0.017131           1.789993   \n",
      "2022-04-25  0.002098  0.005698  -0.003821           2.420013   \n",
      "2022-04-26  0.024747 -0.028146  -0.029475          -5.880005   \n",
      "2022-04-27 -0.036285  0.002098  -0.000069          -6.379990   \n",
      "2022-04-28  0.005675  0.024747   0.020318          -4.630005   \n",
      "\n",
      "            MMM_Close_mom_mid  MMM_Close_mom_lng  MMM_Close_rsi  \\\n",
      "DATE                                                              \n",
      "2012-05-08          -1.264091           1.880516      45.443112   \n",
      "2012-05-09          -1.150604           1.691032      43.546990   \n",
      "2012-05-10          -0.537422           1.344498      42.622810   \n",
      "2012-05-11          -0.408730           0.628143      40.009351   \n",
      "2012-05-14          -0.378471          -0.880127      34.834144   \n",
      "...                       ...                ...            ...   \n",
      "2022-04-22           1.479996         -29.334473      49.011074   \n",
      "2022-04-25           0.279999         -29.171570      47.540635   \n",
      "2022-04-26          -4.360001         -32.075821      38.084884   \n",
      "2022-04-27          -5.729996         -34.017151      38.066278   \n",
      "2022-04-28          -0.539993         -28.571487      46.342144   \n",
      "\n",
      "            MMM_Close_Price_NATR  AOS_Close  AOS_Close_mom_sht  ...  \\\n",
      "DATE                                                            ...   \n",
      "2012-05-08              1.309410  -0.001076          -0.270965  ...   \n",
      "2012-05-09              1.372158  -0.001940          -0.312151  ...   \n",
      "2012-05-10              1.342597   0.005614          -0.112725  ...   \n",
      "2012-05-11              1.354571  -0.005583          -0.002169  ...   \n",
      "2012-05-14              1.395004  -0.022889          -0.260122  ...   \n",
      "...                          ...        ...                ...  ...   \n",
      "2022-04-22              1.994884  -0.023530           0.945766  ...   \n",
      "2022-04-25              2.017640  -0.001699           1.284252  ...   \n",
      "2022-04-26              2.214216  -0.034968          -2.986652  ...   \n",
      "2022-04-27              2.172598   0.008337          -3.394821  ...   \n",
      "2022-04-28              2.152486  -0.043763          -6.134823  ...   \n",
      "\n",
      "            YUM_Close_mom_mid  YUM_Close_mom_lng  YUM_Close_rsi  \\\n",
      "DATE                                                              \n",
      "2012-05-08           1.253269           5.719681      50.748645   \n",
      "2012-05-09           0.014481           5.027298      45.076404   \n",
      "2012-05-10           0.949242           5.576008      49.183938   \n",
      "2012-05-11           0.783783           5.553085      50.652743   \n",
      "2012-05-14           0.060425           4.526836      43.181055   \n",
      "...                       ...                ...            ...   \n",
      "2022-04-22           3.370003         -14.225716      53.501074   \n",
      "2022-04-25          -0.720001         -13.623772      50.395381   \n",
      "2022-04-26          -1.849998         -19.597290      40.207714   \n",
      "2022-04-27          -1.769997         -17.824562      40.798667   \n",
      "2022-04-28           3.559998         -13.323296      47.738614   \n",
      "\n",
      "            YUM_Close_Price_NATR  ZBH_Close  ZBH_Close_mom_sht  \\\n",
      "DATE                                                             \n",
      "2012-05-08              1.998505  -0.011498          -1.544514   \n",
      "2012-05-09              2.050039  -0.010835          -1.508820   \n",
      "2012-05-10              2.020201   0.000806          -1.687366   \n",
      "2012-05-11              1.996513  -0.003702          -1.115982   \n",
      "2012-05-14              2.108734  -0.008724          -1.901646   \n",
      "...                          ...        ...                ...   \n",
      "2022-04-22              2.076583  -0.045268          -0.300003   \n",
      "2022-04-25              2.098776   0.016786           2.579994   \n",
      "2022-04-26              2.314276  -0.028636          -6.450005   \n",
      "2022-04-27              2.291756  -0.010230         -10.970009   \n",
      "2022-04-28              2.311497   0.014079          -7.050003   \n",
      "\n",
      "            ZBH_Close_mom_mid  ZBH_Close_mom_lng  ZBH_Close_rsi  \\\n",
      "DATE                                                              \n",
      "2012-05-08          -2.223045           6.130798      47.047625   \n",
      "2012-05-09          -2.714073           5.514797      43.639728   \n",
      "2012-05-10          -2.178394           5.123199      43.961234   \n",
      "2012-05-11          -2.517654           3.849529      42.753353   \n",
      "2012-05-14          -2.490871           1.711479      39.976191   \n",
      "...                       ...                ...            ...   \n",
      "2022-04-22           3.654251          -0.698174      48.681620   \n",
      "2022-04-25           7.271362           1.828499      52.275403   \n",
      "2022-04-26           3.341873          -0.784958      46.228027   \n",
      "2022-04-27           2.630798          -1.299133      44.312430   \n",
      "2022-04-28           4.101303           1.642143      47.503634   \n",
      "\n",
      "            ZBH_Close_Price_NATR  \n",
      "DATE                              \n",
      "2012-05-08              2.092471  \n",
      "2012-05-09              2.095461  \n",
      "2012-05-10              2.068383  \n",
      "2012-05-11              2.027016  \n",
      "2012-05-14              2.002399  \n",
      "...                          ...  \n",
      "2022-04-22              2.698478  \n",
      "2022-04-25              2.642641  \n",
      "2022-04-26              2.741976  \n",
      "2022-04-27              2.704969  \n",
      "2022-04-28              2.602993  \n",
      "\n",
      "[2511 rows x 1430 columns]\n"
     ]
    }
   ],
   "source": [
    "import pandas_datareader.data as web\n",
    "import datetime\n",
    "\n",
    "SP500 = web.DataReader(['sp500'], 'fred', df_X.index[0], datetime.datetime(2022, 5, 2))\n",
    "print(SP500.isna().sum())\n",
    "SP500 = SP500.dropna()\n",
    "print(SP500)\n",
    "\n",
    "SP500['sp500'] = ta.ROCP(SP500['sp500'], timeperiod = 1)\n",
    "y_ind = SP500.index[1:-2]\n",
    "SP500_t2 = SP500.iloc[3:, :].rename(columns = {\"sp500\": \"sp500_t2\"})\n",
    "SP500_t2.index = y_ind\n",
    "df = SP500_t2.join(SP500).join(df_X)\n",
    "print(df.isna().sum().sum())\n",
    "print(df)"
   ]
  },
  {
   "cell_type": "code",
   "execution_count": 9,
   "id": "sqs2WqHghDM0",
   "metadata": {
    "colab": {
     "base_uri": "https://localhost:8080/"
    },
    "id": "sqs2WqHghDM0",
    "outputId": "e9bef722-bf54-446b-8a1f-503335927fba"
   },
   "outputs": [
    {
     "name": "stdout",
     "output_type": "stream",
     "text": [
      "            sp500_t2     sp500  MMM_Close  MMM_Close_mom_sht  \\\n",
      "DATE                                                           \n",
      "2012-05-08  0.002517 -0.004279  -0.005113          -1.544144   \n",
      "2012-05-09 -0.003387 -0.006702  -0.003313          -1.703148   \n",
      "2012-05-10 -0.011113  0.002517  -0.001604          -1.710686   \n",
      "2012-05-11 -0.005746 -0.003387  -0.004591          -1.468445   \n",
      "2012-05-14 -0.004404 -0.011113  -0.010377          -1.650162   \n",
      "...              ...       ...        ...                ...   \n",
      "2022-04-19 -0.014753  0.016058   0.026816          -0.019989   \n",
      "2022-04-20 -0.027740 -0.000619   0.003264           2.009995   \n",
      "2022-04-21  0.005698 -0.014753   0.007836           3.110001   \n",
      "2022-04-22 -0.028146 -0.027740  -0.017131           1.789993   \n",
      "2022-04-25  0.002098  0.005698  -0.003821           2.420013   \n",
      "\n",
      "            MMM_Close_mom_mid  MMM_Close_mom_lng  MMM_Close_rsi  \\\n",
      "DATE                                                              \n",
      "2012-05-08          -1.264091           1.880516      45.443112   \n",
      "2012-05-09          -1.150604           1.691032      43.546990   \n",
      "2012-05-10          -0.537422           1.344498      42.622810   \n",
      "2012-05-11          -0.408730           0.628143      40.009351   \n",
      "2012-05-14          -0.378471          -0.880127      34.834144   \n",
      "...                       ...                ...            ...   \n",
      "2022-04-19           6.620010         -25.839264      52.191260   \n",
      "2022-04-20           6.279999         -25.339386      53.441944   \n",
      "2022-04-21           6.260010         -24.268326      56.400016   \n",
      "2022-04-22           1.479996         -29.334473      49.011074   \n",
      "2022-04-25           0.279999         -29.171570      47.540635   \n",
      "\n",
      "            MMM_Close_Price_NATR  AOS_Close  AOS_Close_mom_sht  ...  \\\n",
      "DATE                                                            ...   \n",
      "2012-05-08              1.309410  -0.001076          -0.270965  ...   \n",
      "2012-05-09              1.372158  -0.001940          -0.312151  ...   \n",
      "2012-05-10              1.342597   0.005614          -0.112725  ...   \n",
      "2012-05-11              1.354571  -0.005583          -0.002169  ...   \n",
      "2012-05-14              1.395004  -0.022889          -0.260122  ...   \n",
      "...                          ...        ...                ...  ...   \n",
      "2022-04-19              2.004796   0.032049           2.001057  ...   \n",
      "2022-04-20              1.969376   0.014227           1.801949  ...   \n",
      "2022-04-21              1.932619   0.000000           1.592880  ...   \n",
      "2022-04-22              1.994884  -0.023530           0.945766  ...   \n",
      "2022-04-25              2.017640  -0.001699           1.284252  ...   \n",
      "\n",
      "            YUM_Close_mom_mid_t_3  YUM_Close_mom_lng_t_3  YUM_Close_rsi_t_3  \\\n",
      "DATE                                                                          \n",
      "2012-05-08               0.783783               5.553085          50.652743   \n",
      "2012-05-09               0.060425               4.526836          43.181055   \n",
      "2012-05-10               0.933395               4.277267          43.000378   \n",
      "2012-05-11               0.017902               4.010944          44.888124   \n",
      "2012-05-14              -1.699787               2.954395          37.438728   \n",
      "...                           ...                    ...                ...   \n",
      "2022-04-19               3.370003             -14.225716          53.501074   \n",
      "2022-04-20              -0.720001             -13.623772          50.395381   \n",
      "2022-04-21              -1.849998             -19.597290          40.207714   \n",
      "2022-04-22              -1.769997             -17.824562          40.798667   \n",
      "2022-04-25               3.559998             -13.323296          47.738614   \n",
      "\n",
      "            YUM_Close_Price_NATR_t_3  ZBH_Close_t_3  ZBH_Close_mom_sht_t_3  \\\n",
      "DATE                                                                         \n",
      "2012-05-08                  1.996513      -0.003702              -1.115982   \n",
      "2012-05-09                  2.108734      -0.008724              -1.901646   \n",
      "2012-05-10                  2.104911      -0.008964              -1.740952   \n",
      "2012-05-11                  2.032570      -0.000822              -1.178474   \n",
      "2012-05-14                  2.185637      -0.020737              -2.348045   \n",
      "...                              ...            ...                    ...   \n",
      "2022-04-19                  2.076583      -0.045268              -0.300003   \n",
      "2022-04-20                  2.098776       0.016786               2.579994   \n",
      "2022-04-21                  2.314276      -0.028636              -6.450005   \n",
      "2022-04-22                  2.291756      -0.010230             -10.970009   \n",
      "2022-04-25                  2.311497       0.014079              -7.050003   \n",
      "\n",
      "            ZBH_Close_mom_mid_t_3  ZBH_Close_mom_lng_t_3  ZBH_Close_rsi_t_3  \\\n",
      "DATE                                                                          \n",
      "2012-05-08              -2.517654               3.849529          42.753353   \n",
      "2012-05-09              -2.490871               1.711479          39.976191   \n",
      "2012-05-10              -2.089134               0.428074          37.317301   \n",
      "2012-05-11              -2.169476              -0.017178          37.075941   \n",
      "2012-05-14              -4.213970              -0.964031          31.538672   \n",
      "...                           ...                    ...                ...   \n",
      "2022-04-19               3.654251              -0.698174          48.681620   \n",
      "2022-04-20               7.271362               1.828499          52.275403   \n",
      "2022-04-21               3.341873              -0.784958          46.228027   \n",
      "2022-04-22               2.630798              -1.299133          44.312430   \n",
      "2022-04-25               4.101303               1.642143          47.503634   \n",
      "\n",
      "            ZBH_Close_Price_NATR_t_3  \n",
      "DATE                                  \n",
      "2012-05-08                  2.027016  \n",
      "2012-05-09                  2.002399  \n",
      "2012-05-10                  1.978380  \n",
      "2012-05-11                  1.899709  \n",
      "2012-05-14                  1.961035  \n",
      "...                              ...  \n",
      "2022-04-19                  2.698478  \n",
      "2022-04-20                  2.642641  \n",
      "2022-04-21                  2.741976  \n",
      "2022-04-22                  2.704969  \n",
      "2022-04-25                  2.602993  \n",
      "\n",
      "[2508 rows x 5717 columns]\n"
     ]
    }
   ],
   "source": [
    "df.shape\n",
    "\n",
    "n_t = 3\n",
    "df_org = df.copy()\n",
    "\n",
    "df_ind = df_org.index[:-1]\n",
    "df_t_1 = df_org.iloc[1:, 1:]\n",
    "df_t_1.index = df_ind\n",
    "df_t_1.columns = [c + \"_t_1\" for c in df_org.columns[1:]]\n",
    "df = df.join(df_t_1, how = \"inner\")\n",
    "\n",
    "for i in range(2, (n_t + 1)):\n",
    "    df_ind = df_t_1.index[:-1]\n",
    "    df_t_1 = df_t_1.iloc[1:, :]\n",
    "    df_t_1.index = df_ind\n",
    "    df_t_1.columns = [c + \"_t_\" + str(i) for c in df_org.columns[1:]]\n",
    "    df = df.join(df_t_1, how = \"inner\")\n",
    "\n",
    "print(df)"
   ]
  },
  {
   "cell_type": "code",
   "execution_count": 10,
   "id": "voPDuDAmhD9x",
   "metadata": {
    "colab": {
     "base_uri": "https://localhost:8080/"
    },
    "id": "voPDuDAmhD9x",
    "outputId": "7545936a-4b95-4e38-9022-254aa039eef4"
   },
   "outputs": [
    {
     "name": "stdout",
     "output_type": "stream",
     "text": [
      "Index(['sp500_t2', 'sp500', 'MMM_Close', 'MMM_Close_mom_sht',\n",
      "       'MMM_Close_mom_mid', 'MMM_Close_mom_lng', 'MMM_Close_rsi',\n",
      "       'MMM_Close_Price_NATR', 'AOS_Close', 'AOS_Close_mom_sht',\n",
      "       ...\n",
      "       'YUM_Close_mom_mid', 'YUM_Close_mom_lng', 'YUM_Close_rsi',\n",
      "       'YUM_Close_Price_NATR', 'ZBH_Close', 'ZBH_Close_mom_sht',\n",
      "       'ZBH_Close_mom_mid', 'ZBH_Close_mom_lng', 'ZBH_Close_rsi',\n",
      "       'ZBH_Close_Price_NATR'],\n",
      "      dtype='object', length=1430)\n"
     ]
    }
   ],
   "source": [
    "print(df.columns[:1430])"
   ]
  },
  {
   "cell_type": "code",
   "execution_count": 11,
   "id": "fS0O8PP9Q2ro",
   "metadata": {
    "id": "fS0O8PP9Q2ro"
   },
   "outputs": [],
   "source": [
    "import random\n",
    "import os\n",
    "import tensorflow as tf\n",
    "from sklearn.model_selection import train_test_split\n",
    "from sklearn.preprocessing import StandardScaler\n",
    "from sklearn.metrics import accuracy_score\n",
    "from tensorflow.keras.models import Sequential\n",
    "from tensorflow.keras.layers import Dense, LeakyReLU, Dropout, BatchNormalization, LSTM\n",
    "\n",
    "def seed_everything(seed):\n",
    "    random.seed(seed)\n",
    "    os.environ['PYTHONHASHSEED'] = str(seed)\n",
    "    np.random.seed(seed)\n",
    "    tf.random.set_seed(seed)\n",
    "    tf.compat.v1.set_random_seed(seed)\n",
    "    session_conf = tf.compat.v1.ConfigProto(\n",
    "        intra_op_parallelism_threads=1,\n",
    "        inter_op_parallelism_threads=1\n",
    "    )\n",
    "    sess = tf.compat.v1.Session(graph=tf.compat.v1.get_default_graph(), config=session_conf)\n",
    "    tf.compat.v1.keras.backend.set_session(sess)"
   ]
  },
  {
   "cell_type": "code",
   "execution_count": 12,
   "id": "jNM8j8L_3PBC",
   "metadata": {
    "id": "jNM8j8L_3PBC"
   },
   "outputs": [],
   "source": [
    "n_train = int(np.round(df.shape[0] * 0.8))\n",
    "\n",
    "df_train = df.iloc[:n_train, :]\n",
    "df_test = df.iloc[n_train:, :]\n",
    "\n",
    "sc = StandardScaler()\n",
    "df_train_tf = sc.fit_transform(df_train.values)\n",
    "df_test_tf = sc.transform(df_test.values)"
   ]
  },
  {
   "cell_type": "code",
   "execution_count": 113,
   "id": "vfICHKUc3TeR",
   "metadata": {
    "id": "vfICHKUc3TeR"
   },
   "outputs": [],
   "source": [
    "def data_generator_lstm(df, window, batchsize):\n",
    "  feature = np.empty((batchsize, 1429, window))\n",
    "  target = np.empty((batchsize, 1))\n",
    "\n",
    "  ite = 0\n",
    "  while True:\n",
    "    i = random.randint(window, len(df)-1)\n",
    "    # for i in range(window, len(df)):\n",
    "    onefeature = df[(i-window):i,1:1430]\n",
    "    feature[ite] = onefeature.T\n",
    "\n",
    "    target[ite] = df[i,0]\n",
    "\n",
    "    ite += 1\n",
    "\n",
    "    if ite == batchsize-1:\n",
    "      yield feature, target\n",
    "      ite = 0    "
   ]
  },
  {
   "cell_type": "code",
   "execution_count": 149,
   "id": "-7LYPhniHJrW",
   "metadata": {
    "colab": {
     "base_uri": "https://localhost:8080/"
    },
    "id": "-7LYPhniHJrW",
    "outputId": "e5ec6f76-b4d4-4828-8eeb-1b3039cd21b4"
   },
   "outputs": [
    {
     "name": "stdout",
     "output_type": "stream",
     "text": [
      "Model: \"sequential_16\"\n",
      "_________________________________________________________________\n",
      " Layer (type)                Output Shape              Param #   \n",
      "=================================================================\n",
      " dropout_102 (Dropout)       (None, 1429, 10)          0         \n",
      "                                                                 \n",
      " lstm_22 (LSTM)              (None, 1429, 256)         273408    \n",
      "                                                                 \n",
      " leaky_re_lu_86 (LeakyReLU)  (None, 1429, 256)         0         \n",
      "                                                                 \n",
      " batch_normalization_86 (Bat  (None, 1429, 256)        1024      \n",
      " chNormalization)                                                \n",
      "                                                                 \n",
      " dropout_103 (Dropout)       (None, 1429, 256)         0         \n",
      "                                                                 \n",
      " lstm_23 (LSTM)              (None, 64)                82176     \n",
      "                                                                 \n",
      " leaky_re_lu_87 (LeakyReLU)  (None, 64)                0         \n",
      "                                                                 \n",
      " batch_normalization_87 (Bat  (None, 64)               256       \n",
      " chNormalization)                                                \n",
      "                                                                 \n",
      " dropout_104 (Dropout)       (None, 64)                0         \n",
      "                                                                 \n",
      " dense_80 (Dense)            (None, 1)                 65        \n",
      "                                                                 \n",
      "=================================================================\n",
      "Total params: 356,929\n",
      "Trainable params: 356,289\n",
      "Non-trainable params: 640\n",
      "_________________________________________________________________\n"
     ]
    }
   ],
   "source": [
    "dropout_p = 0.1\n",
    "lr_alpha = 0.05\n",
    "window = 10\n",
    "\n",
    "model = Sequential()\n",
    "model.add(Dropout(dropout_p, input_shape = [1429, window]))\n",
    "\n",
    "model.add(LSTM(256, return_sequences=True))\n",
    "model.add(LeakyReLU(alpha=lr_alpha))\n",
    "model.add(BatchNormalization())\n",
    "model.add(Dropout(dropout_p))\n",
    "\n",
    "model.add(LSTM(64))\n",
    "model.add(LeakyReLU(alpha=lr_alpha))\n",
    "model.add(BatchNormalization())\n",
    "model.add(Dropout(dropout_p))\n",
    "\n",
    "model.add(Dense(1))\n",
    "\n",
    "model.compile(loss='mse', optimizer=tf.keras.optimizers.Adam(), metrics=[tf.keras.metrics.MeanAbsoluteError()])\n",
    "\n",
    "model.summary()"
   ]
  },
  {
   "cell_type": "code",
   "execution_count": 150,
   "id": "16LUMSED2_M8",
   "metadata": {
    "colab": {
     "base_uri": "https://localhost:8080/"
    },
    "id": "16LUMSED2_M8",
    "outputId": "9c1aca56-99f0-4dca-f644-1e4402519171"
   },
   "outputs": [
    {
     "name": "stdout",
     "output_type": "stream",
     "text": [
      "Epoch 1/7\n",
      "31/31 [==============================] - 11s 228ms/step - loss: 1.9179 - mean_absolute_error: 0.9695 - val_loss: 1.1168 - val_mean_absolute_error: 0.7769\n",
      "Epoch 2/7\n",
      "31/31 [==============================] - 6s 207ms/step - loss: 1.2642 - mean_absolute_error: 0.7990 - val_loss: 1.0783 - val_mean_absolute_error: 0.7812\n",
      "Epoch 3/7\n",
      "31/31 [==============================] - 6s 206ms/step - loss: 1.3587 - mean_absolute_error: 0.7765 - val_loss: 0.7884 - val_mean_absolute_error: 0.6857\n",
      "Epoch 4/7\n",
      "31/31 [==============================] - 6s 207ms/step - loss: 1.3045 - mean_absolute_error: 0.7646 - val_loss: 0.9318 - val_mean_absolute_error: 0.7353\n",
      "Epoch 5/7\n",
      "31/31 [==============================] - 6s 206ms/step - loss: 1.1623 - mean_absolute_error: 0.7540 - val_loss: 0.9566 - val_mean_absolute_error: 0.7423\n",
      "Epoch 6/7\n",
      "31/31 [==============================] - 6s 207ms/step - loss: 1.2716 - mean_absolute_error: 0.7326 - val_loss: 0.8827 - val_mean_absolute_error: 0.7173\n",
      "Epoch 7/7\n",
      "31/31 [==============================] - 6s 206ms/step - loss: 1.1373 - mean_absolute_error: 0.7247 - val_loss: 0.7468 - val_mean_absolute_error: 0.6516\n",
      " 0.81 min.\n"
     ]
    }
   ],
   "source": [
    "seed_everything(0)\n",
    "start = time.time()\n",
    "\n",
    "n_epoch = 7\n",
    "batchsize = 64\n",
    "\n",
    "generator = data_generator_lstm(df_train_tf, window = window, batchsize = batchsize)\n",
    "valid_generator = data_generator_lstm(df_test_tf, window = window, batchsize = batchsize)\n",
    "train_steps = (len(df_train_tf) - window) // batchsize\n",
    "test_steps = (len(df_test_tf) - window) // batchsize\n",
    "\n",
    "hist = model.fit(generator, \n",
    "          steps_per_epoch = train_steps, \n",
    "          verbose = True, epochs=n_epoch, \n",
    "          validation_data=valid_generator,\n",
    "          validation_steps = test_steps,\n",
    "          )\n",
    "\n",
    "print(f\"{(time.time() - start) / 60: 0.2f} min.\")"
   ]
  },
  {
   "cell_type": "code",
   "execution_count": 151,
   "id": "n8oOH6o3LsqI",
   "metadata": {
    "id": "n8oOH6o3LsqI"
   },
   "outputs": [],
   "source": [
    "train_for_inv = np.concatenate((np.transpose([hist.history[\"mean_absolute_error\"]]), df_train_tf[:n_epoch, 1:]), axis = 1)\n",
    "test_for_inv = np.concatenate((np.transpose([hist.history[\"val_mean_absolute_error\"]]), df_train_tf[:n_epoch, 1:]), axis = 1)\n",
    "train_mae_org_sc = sc.inverse_transform(train_for_inv)[:, 0]\n",
    "test_mae_org_sc = sc.inverse_transform(test_for_inv)[:, 0]"
   ]
  },
  {
   "cell_type": "code",
   "execution_count": 152,
   "id": "eHwYwXMrLxY3",
   "metadata": {
    "colab": {
     "base_uri": "https://localhost:8080/",
     "height": 265
    },
    "id": "eHwYwXMrLxY3",
    "outputId": "594fbd84-0bed-41f0-f046-1ba4a9352e5e"
   },
   "outputs": [
    {
     "data": {
      "image/png": "[encoded data removed]",
      "text/plain": [
       "<Figure size 432x288 with 1 Axes>"
      ]
     },
     "metadata": {
      "needs_background": "light"
     },
     "output_type": "display_data"
    }
   ],
   "source": [
    "plt.plot(range(n_epoch), hist.history[\"loss\"], label = \"train_MSE_scaled\");\n",
    "plt.plot(range(n_epoch), hist.history[\"val_loss\"], label = \"test_MSE_scaled\");\n",
    "plt.legend()\n",
    "plt.show()"
   ]
  },
  {
   "cell_type": "code",
   "execution_count": 153,
   "id": "ibHC2BWtLxQ9",
   "metadata": {
    "colab": {
     "base_uri": "https://localhost:8080/",
     "height": 265
    },
    "id": "ibHC2BWtLxQ9",
    "outputId": "96f2abbf-fdaf-41d4-dc61-fa4c6e058425"
   },
   "outputs": [
    {
     "data": {
      "image/png": "[encoded data removed]",
      "text/plain": [
       "<Figure size 432x288 with 1 Axes>"
      ]
     },
     "metadata": {
      "needs_background": "light"
     },
     "output_type": "display_data"
    }
   ],
   "source": [
    "plt.plot(range(n_epoch), train_mae_org_sc, label = \"train_MAE_original_scale\");\n",
    "plt.plot(range(n_epoch), test_mae_org_sc, label = \"test_MAE_original_scale\");\n",
    "plt.legend()\n",
    "plt.show()"
   ]
  },
  {
   "cell_type": "code",
   "execution_count": 154,
   "id": "UNxIk8lqDbWH",
   "metadata": {
    "colab": {
     "base_uri": "https://localhost:8080/"
    },
    "id": "UNxIk8lqDbWH",
    "outputId": "0d77305f-7c6a-4578-91d2-177cfaaa818f"
   },
   "outputs": [
    {
     "name": "stderr",
     "output_type": "stream",
     "text": [
      "100%|██████████| 492/492 [00:00<00:00, 26198.43it/s]\n"
     ]
    }
   ],
   "source": [
    "from tqdm import tqdm\n",
    "pred_for_inv_feature = np.empty((len(df_test_tf)-window, 1429, window))\n",
    "for i in tqdm(range(window,len(df_test_tf))):\n",
    "  pred_for_inv_feature[i-window] = df_test_tf[(i-window):i,1:1430].T\n",
    "pred_for_inv = model.predict(pred_for_inv_feature)"
   ]
  },
  {
   "cell_type": "code",
   "execution_count": 155,
   "id": "34pMFdkZLsl-",
   "metadata": {
    "id": "34pMFdkZLsl-"
   },
   "outputs": [],
   "source": [
    "pred_for_inv = np.concatenate((pred_for_inv, df_test_tf[window:, 1:]), axis=1)\n",
    "\n",
    "pred = sc.inverse_transform(pred_for_inv)[:,0]\n",
    "y_test = df_test.iloc[:, 0]\n",
    "\n",
    "pred_price = [100 * (pred[window] + 1)]\n",
    "y_test_price = [100 * (y_test[window] + 1)]\n",
    "for i in range(1, len(pred)):\n",
    "    pred_price.append(pred_price[i-1] * (pred[i] + 1))\n",
    "    y_test_price.append(y_test_price[i-1] * (y_test[i] + 1))"
   ]
  },
  {
   "cell_type": "code",
   "execution_count": 156,
   "id": "9AQ-9rcM9Dp9",
   "metadata": {
    "colab": {
     "base_uri": "https://localhost:8080/",
     "height": 265
    },
    "id": "9AQ-9rcM9Dp9",
    "outputId": "66bf9dfb-d6f4-4b50-8d07-2393bafd8e9d"
   },
   "outputs": [
    {
     "data": {
      "image/png": "[encoded data removed]",
      "text/plain": [
       "<Figure size 432x288 with 1 Axes>"
      ]
     },
     "metadata": {
      "needs_background": "light"
     },
     "output_type": "display_data"
    }
   ],
   "source": [
    "plt.plot(df_test.index[window:], pred_price, label = \"pred\");\n",
    "plt.plot(df_test.index[window:], y_test_price, label = \"sp500\");\n",
    "plt.legend()\n",
    "plt.show()"
   ]
  },
  {
   "cell_type": "code",
   "execution_count": 157,
   "id": "Jcrs9qvjLsh2",
   "metadata": {
    "colab": {
     "base_uri": "https://localhost:8080/"
    },
    "id": "Jcrs9qvjLsh2",
    "outputId": "c0a31262-01c6-415c-8503-3df6e13a992c"
   },
   "outputs": [
    {
     "name": "stderr",
     "output_type": "stream",
     "text": [
      "100%|██████████| 492/492 [00:00<00:00, 27454.23it/s]\n",
      "100%|██████████| 101/101 [00:24<00:00,  4.06it/s]\n",
      "100%|██████████| 101/101 [00:01<00:00, 68.49it/s]"
     ]
    },
    {
     "name": "stdout",
     "output_type": "stream",
     "text": [
      " 0.44 min.\n"
     ]
    },
    {
     "name": "stderr",
     "output_type": "stream",
     "text": [
      "\n"
     ]
    }
   ],
   "source": [
    "start = time.time()\n",
    "\n",
    "def predict_dist(X, model, num_samples):\n",
    "    preds = [model(X, training=True) for _ in tqdm(range(num_samples))]\n",
    "    return np.hstack(preds)\n",
    "\n",
    "pred_dist_feature = np.empty((len(df_test_tf)-window, 1429, window))\n",
    "for i in tqdm(range(window, len(df_test_tf))):\n",
    "  pred_dist_feature[i-window] = df_test_tf[(i-window):i, 1:1430].T\n",
    "\n",
    "pred_dist = predict_dist(pred_dist_feature, model = model, num_samples = 101)\n",
    "\n",
    "pred_mean = pred_dist.mean(axis=1)\n",
    "\n",
    "pred_dist = pd.DataFrame(pred_dist)\n",
    "pred_dist.index = df_test.index[window:]\n",
    "\n",
    "for i in tqdm(range(pred_dist.shape[1])):\n",
    "    pred_for_inv = np.concatenate((np.transpose([pred_dist.iloc[:, i]]), df_test_tf[window:, 1:]), axis = 1)\n",
    "    pred_dist.iloc[:, i] = sc.inverse_transform(pred_for_inv)[:, 0]\n",
    "\n",
    "pred_for_inv = np.concatenate((np.transpose([pred_mean]), df_test_tf[window:, 1:]), axis = 1)\n",
    "pred_mean = sc.inverse_transform(pred_for_inv)[:, 0]\n",
    "\n",
    "pred_05 = pred_dist.quantile(0.05, axis = 1)\n",
    "pred_50 = pred_dist.quantile(0.5, axis = 1)\n",
    "pred_95 = pred_dist.quantile(0.95, axis = 1)\n",
    "\n",
    "pred_mean_price = [100 * (pred_mean[0] + 1)]\n",
    "pred_05_price = [100 * (pred_05[0] + 1)]\n",
    "pred_50_price = [100 * (pred_50[0] + 1)]\n",
    "pred_95_price = [100 * (pred_95[0] + 1)]\n",
    "for i in range(1, len(pred_mean)):\n",
    "    pred_mean_price.append(pred_mean_price[i-1] * (pred_mean[i] + 1))\n",
    "    pred_05_price.append(pred_05_price[i-1] * (pred_05[i] + 1))\n",
    "    pred_50_price.append(pred_50_price[i-1] * (pred_50[i] + 1))\n",
    "    pred_95_price.append(pred_95_price[i-1] * (pred_95[i] + 1))\n",
    "\n",
    "print(f\"{(time.time() - start) / 60: 0.2f} min.\")"
   ]
  },
  {
   "cell_type": "code",
   "execution_count": 158,
   "id": "Dt0TBR7KfnYv",
   "metadata": {
    "colab": {
     "base_uri": "https://localhost:8080/",
     "height": 506
    },
    "id": "Dt0TBR7KfnYv",
    "outputId": "4892c0c0-a0f8-4239-e038-8d48b20f75bf"
   },
   "outputs": [
    {
     "data": {
      "image/png": "[encoded data removed]",
      "text/plain": [
       "<Figure size 1440x576 with 1 Axes>"
      ]
     },
     "metadata": {
      "needs_background": "light"
     },
     "output_type": "display_data"
    }
   ],
   "source": [
    "pred_dist_price = (pred_dist + 1)\n",
    "pred_dist_price.iloc[0,:] = 100 * pred_dist_price.iloc[0,:]\n",
    "pred_dist_price = pred_dist_price.cumprod()\n",
    "\n",
    "pred_05_price = pred_dist_price.quantile(0.05, axis = 1)\n",
    "pred_50_price = pred_dist_price.quantile(0.5, axis = 1)\n",
    "pred_95_price = pred_dist_price.quantile(0.95, axis = 1)\n",
    "\n",
    "pred_mean_price = [100 * (pred_mean[0] + 1)]\n",
    "for i in range(1, len(pred_mean)):\n",
    "    pred_mean_price.append(pred_mean_price[i-1] * (pred_mean[i] + 1))\n",
    "\n",
    "plt.figure(figsize=(20,8))\n",
    "plt.ylim([70, 200]);\n",
    "\n",
    "plt.plot(df_test.index[window:], y_test_price, label = \"S&P 500\", color = \"black\");\n",
    "plt.plot(df_test.index[window:], pred_95_price, label = \"prediction 95% bound\", linestyle = \"dashed\", color = \"red\");\n",
    "plt.plot(df_test.index[window:], pred_mean_price, label = \"prediction mean\", linestyle = \"dotted\", color = \"purple\");\n",
    "plt.plot(df_test.index[window:], pred_05_price, label = \"prediction 5% bound\", linestyle = \"dashed\", color = \"blue\");\n",
    "plt.xlabel(\"date\", size=15)\n",
    "plt.ylabel(\"index value\", size=15)\n",
    "plt.grid()\n",
    "plt.legend(prop={'size': 15})\n",
    "plt.show()"
   ]
  }
 ],
 "metadata": {
  "accelerator": "GPU",
  "colab": {
   "background_execution": "on",
   "collapsed_sections": [],
   "machine_shape": "hm",
   "name": "base.ipynb",
   "provenance": []
  },
  "kernelspec": {
   "display_name": "Python 3 (ipykernel)",
   "language": "python",
   "name": "python3"
  },
  "language_info": {
   "codemirror_mode": {
    "name": "ipython",
    "version": 3
   },
   "file_extension": ".py",
   "mimetype": "text/x-python",
   "name": "python",
   "nbconvert_exporter": "python",
   "pygments_lexer": "ipython3",
   "version": "3.8.12"
  },
  "toc": {
   "base_numbering": 1,
   "nav_menu": {},
   "number_sections": true,
   "sideBar": true,
   "skip_h1_title": false,
   "title_cell": "Table of Contents",
   "title_sidebar": "Contents",
   "toc_cell": false,
   "toc_position": {},
   "toc_section_display": true,
   "toc_window_display": false
  }
 },
 "nbformat": 4,
 "nbformat_minor": 5
}
